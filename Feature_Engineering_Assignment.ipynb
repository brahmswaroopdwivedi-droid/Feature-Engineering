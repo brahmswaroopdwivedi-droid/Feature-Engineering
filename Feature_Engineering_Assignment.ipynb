{
  "nbformat": 4,
  "nbformat_minor": 0,
  "metadata": {
    "colab": {
      "provenance": []
    },
    "kernelspec": {
      "name": "python3",
      "display_name": "Python 3"
    },
    "language_info": {
      "name": "python"
    }
  },
  "cells": [
    {
      "cell_type": "markdown",
      "source": [
        "#Feature Engineering Assignment(Theortical Questions)"
      ],
      "metadata": {
        "id": "vs0FScCOh82Y"
      }
    },
    {
      "cell_type": "markdown",
      "source": [
        "1.  What is a parameter?\n",
        "- A parameter in machine learning is a variable that is part of the model and is learned from the training data.\n"
      ],
      "metadata": {
        "id": "8_28zVMDigTC"
      }
    },
    {
      "cell_type": "markdown",
      "source": [
        "2. What is correlation? What does negative correlation mean?\n",
        " - Correlation measures the relationship between two variables.Negative correlation means that as one variable increases,the other decreases."
      ],
      "metadata": {
        "id": "i16sUN2Ci2NT"
      }
    },
    {
      "cell_type": "markdown",
      "source": [
        "3. Define Machine Learning. What are the main components in Machine Learning?\n",
        "- Machine Learning is a subset of AI where systems learn from data to improve performance on a task.Main components include data,model,training,and evaluation."
      ],
      "metadata": {
        "id": "wUuCvTyijV_D"
      }
    },
    {
      "cell_type": "markdown",
      "source": [
        "4. How does loss value help in determining whether the model is good or not?\n",
        "- The loss value indicates how well the model is performing.Lower loss generally means better performance."
      ],
      "metadata": {
        "id": "rwiMygjGjgzN"
      }
    },
    {
      "cell_type": "markdown",
      "source": [
        "5. What are continuous and categorical variables?\n",
        "- Continuous variables can take any value within a range(e.g.,height,weight).Categorical variables represent categories(e.g.,colors,gender)."
      ],
      "metadata": {
        "id": "cpe8wykpjpEs"
      }
    },
    {
      "cell_type": "markdown",
      "source": [
        "6. How do we handle categorical variables in Machine Learning? What are the common techniques?\n",
        "- We handle categorical variables using techniques like one-hot encoding, label encoding, etc."
      ],
      "metadata": {
        "id": "mc96UYR_j4Ri"
      }
    },
    {
      "cell_type": "markdown",
      "source": [
        "7. What do you mean by training and testing a dataset?\n",
        "- Training uses part of the data to learn the model while testing evaluates the model's performance on unseen data."
      ],
      "metadata": {
        "id": "jxz56SiHkffB"
      }
    },
    {
      "cell_type": "markdown",
      "source": [
        "8. What is sklearn.preprocessing?\n",
        "- sklearn.preprocessing is a module in scikit-learn for preprocessing data before modeling."
      ],
      "metadata": {
        "id": "Ss_ruFBEkq1z"
      }
    },
    {
      "cell_type": "markdown",
      "source": [
        "9. What is a Test set?\n",
        "- A test set is data used to evaluate the model's performance after training."
      ],
      "metadata": {
        "id": "GP14NEFBkxTr"
      }
    },
    {
      "cell_type": "markdown",
      "source": [
        "10. How do we split data for model fitting (training and testing) in Python?\n",
        " How do you approach a Machine Learning problem?\n",
        " - We use train_test_split from sklearn.model_selection for splitting data for model fitting(training and testing) in Python.Approach involves understanding data,preprocessing,choosing a model,training,and evaluating."
      ],
      "metadata": {
        "id": "D-5c_21nk3jk"
      }
    },
    {
      "cell_type": "markdown",
      "source": [
        "11. Why do we have to perform EDA before fitting a model to the data?\n",
        "- We have to perform EDA before fitting a model to the data because EDA helps understand data patterns,relationships and issues before modelling.\n"
      ],
      "metadata": {
        "id": "iwtgW_3VnJtV"
      }
    },
    {
      "cell_type": "markdown",
      "source": [
        "12. What is correlation?\n",
        "- Correlation measures how two variables relate to each other.It shows if they tend to increase/decrease together (positive correlation),move oppositely(negative correlation), or have no relation (no correlation).Correlation coefficient ranges from -1 to 1:                                                \n",
        "1: Perfect positive correlation.                                                \n",
        "-1: Perfect negative correlation.                                               \n",
        "0: No correlation.                            \n",
        "Example: Height and weight often have a positive correlation.                        "
      ],
      "metadata": {
        "id": "KglHmCOynPf3"
      }
    },
    {
      "cell_type": "markdown",
      "source": [
        "13. What does negative correlation mean?\n",
        "- Negative correlation means that as one variable increases,the other decreases.They move in opposite directions.Example:Temperature and snowfall might have a negative correlation-as temperaure rises,snowfall decreases."
      ],
      "metadata": {
        "id": "vXZribM_nV-s"
      }
    },
    {
      "cell_type": "markdown",
      "source": [
        "14. How can you find correlation between variables in Python?\n",
        "- With the use of df.corr() in pandas or numpy we can find correlation between variables in Python."
      ],
      "metadata": {
        "id": "OKESpdhqnoCm"
      }
    },
    {
      "cell_type": "markdown",
      "source": [
        "15. What is causation? Explain difference between correlation and causation with an example.\n",
        "- Causation means one variable causes another.Correlation doesn't imply causation.Example: Ice cream sales and drowning could correlate but Ice cream doesn't cause drowning."
      ],
      "metadata": {
        "id": "WoxNSS5Xn37X"
      }
    },
    {
      "cell_type": "markdown",
      "source": [
        "16. What is an Optimizer? What are different types of optimizers? Explain each with an example.\n",
        "- An optimizer is an algorithm or method used to minimize or maximize an objective function in machine learning,often to adjust model parameters for better performance.                                                             \n",
        "Different types of optimizers include:                                         \n",
        "1. Gradient Descent:It updates parameters in the direction of the negative gradient of the loss function.Example:Batch Gradient Descent.                   \n",
        "2. Stochastic Gradient Descent(SGD):It updates parameters using one example at a time.Example:Training a neural network with SGD.                               \n",
        "3. Adam: Adaptive learning rate optimizer combining momentum and RMSprop.Example:Training deep learning models efficiently.                              \n",
        "4. RMSprop: Adjusts learning rate per parameter based on recent gradients.Example:Handling sparse gradients in RNNs."
      ],
      "metadata": {
        "id": "8TaAQQeYn-_0"
      }
    },
    {
      "cell_type": "markdown",
      "source": [
        "17. What is sklearn.linear_model?\n",
        "- sklearn.linear_model has linear models like LinearRegression for regression tasks.\n"
      ],
      "metadata": {
        "id": "fJfL3BgToPvH"
      }
    },
    {
      "cell_type": "markdown",
      "source": [
        "18.  What does model.fit() do? What arguments must be given?\n",
        "- model.fit() is used to train a machine learning model.Typically, you need to pass in the training data(X_train) and the target values(Y_train).Other arguments like epochs,batch_size,and validation_data can be optional depending on the model."
      ],
      "metadata": {
        "id": "J5bJnfwMoVhJ"
      }
    },
    {
      "cell_type": "markdown",
      "source": [
        "19. What does model.predict() do? What arguments must be given?\n",
        "- model.predict() is used to make predictions using a trained model.You typically need to pass in the data(X) you want to make predictions on."
      ],
      "metadata": {
        "id": "lb00O42_oc7W"
      }
    },
    {
      "cell_type": "markdown",
      "source": [
        "20. What are continuous and categorical variables?\n",
        "- Continuous variables: It can take any value within a range(e.g.,height,weight,temperature).                                                                   \n",
        "Categorical variables:It represent categories or labels(e.g.,gender,color,city name)."
      ],
      "metadata": {
        "id": "W3cE-x8Poiz5"
      }
    },
    {
      "cell_type": "markdown",
      "source": [
        "21. What is feature scaling? How does it help in Machine Learning?\n",
        "- Feature scaling is transforming features to a similar scale.It helps in machine learning by improving model performance,convergence speed,and preventing features with large ranges from dominating the model."
      ],
      "metadata": {
        "id": "ZZ0mZwx1owsc"
      }
    },
    {
      "cell_type": "markdown",
      "source": [
        "22. How do we perform scaling in Python?\n",
        "- We can use StandardScaler or MinMaxScaler from sklearn.preprocessing to perform scaling in Python."
      ],
      "metadata": {
        "id": "pkwCWMYao34R"
      }
    },
    {
      "cell_type": "markdown",
      "source": [
        "23. What is sklearn.preprocessing?\n",
        "- sklearn.preprocessing is a module in scikit-learn for preprocessing data before feeding it into machine learning models.It includes tools for scaling,encoding,and transforming data."
      ],
      "metadata": {
        "id": "4oHRXLK-pCJA"
      }
    },
    {
      "cell_type": "markdown",
      "source": [
        "24. How do we split data for model fitting (training and testing) in Python?\n",
        "- We use train_test_split from sklearn.model_selection for splitting data for model fitting (training and testing) in Python.\n",
        ""
      ],
      "metadata": {
        "id": "0jvp60uppfIq"
      }
    },
    {
      "cell_type": "markdown",
      "source": [
        "25. Explain data encoding?\n",
        "- Data encoding is the process of transforming categorical or textual data into numerical formats that machine learning models can understand.Common encoding techniques includes label encoding,one-hot encoding,and original encoding.These techniques enable models to process categorical data effectively."
      ],
      "metadata": {
        "id": "5i3-qzE5ph1l"
      }
    }
  ]
}